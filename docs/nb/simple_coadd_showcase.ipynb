{
 "cells": [
  {
   "cell_type": "code",
   "execution_count": null,
   "id": "698a861e-be16-468e-984e-707b7f4a0c76",
   "metadata": {
    "tags": []
   },
   "outputs": [],
   "source": [
    "import numpy as np\n",
    "import matplotlib.pyplot as plt\n",
    "\n",
    "import qsonic.catalog\n",
    "import qsonic.io"
   ]
  },
  {
   "cell_type": "code",
   "execution_count": null,
   "id": "471e199d-31bb-43b3-a09e-5f5026f949e0",
   "metadata": {
    "tags": []
   },
   "outputs": [],
   "source": [
    "EDR_DIRECTORY = \"/global/cfs/cdirs/desi/public/edr\"\n",
    "fname_catalog = \"QSO_cat_fuji_healpix_only_qso_targets_sv3_fix.fits\"\n",
    "indir = f\"{EDR_DIRECTORY}/spectro/redux/fuji/healpix\"\n",
    "arms = ['B', 'R', 'Z']\n",
    "is_mock = False\n",
    "skip_resomat = True\n",
    "\n",
    "# Setup reader function\n",
    "readerFunction = qsonic.io.get_spectra_reader_function(\n",
    "    indir, arms, is_mock, skip_resomat,\n",
    "    read_true_continuum=False, is_tile=False)"
   ]
  },
  {
   "cell_type": "code",
   "execution_count": null,
   "id": "324dd669-0a14-47ad-ac0b-f57a4ab20a49",
   "metadata": {
    "tags": []
   },
   "outputs": [],
   "source": [
    "catalog = qsonic.catalog.read_quasar_catalog(fname_catalog, is_mock=is_mock)\n",
    "\n",
    "# Group into unique pixels\n",
    "unique_pix, s = np.unique(catalog['HPXPIXEL'], return_index=True)\n",
    "split_catalog = np.split(catalog, s[1:])\n",
    "\n",
    "# Pick one healpix to illustrate\n",
    "hpx_cat = split_catalog[1]\n",
    "healpix = hpx_cat['HPXPIXEL'][0]\n",
    "\n",
    "spectra_by_hpx = readerFunction(hpx_cat)\n",
    "\n",
    "print(f\"There are {len(spectra_by_hpx)} spectra in healpix {healpix}.\")"
   ]
  },
  {
   "cell_type": "code",
   "execution_count": null,
   "id": "7ee7dd76-91ce-49c4-9745-59e2f12cfbed",
   "metadata": {
    "tags": []
   },
   "outputs": [],
   "source": [
    "spec = spectra_by_hpx[3]\n",
    "print(spec.wave)\n",
    "print(spec.flux)"
   ]
  },
  {
   "cell_type": "code",
   "execution_count": null,
   "id": "b0f8b87b-8546-444b-b185-636927a2400f",
   "metadata": {
    "tags": []
   },
   "outputs": [],
   "source": [
    "plt.figure(figsize=(12, 5))\n",
    "for arm, wave_arm in spec.wave.items():\n",
    "    plt.plot(wave_arm, spec.flux[arm], label=arm, alpha=0.7)\n",
    "plt.legend()\n",
    "plt.ylim(-1, 5)\n",
    "plt.show()"
   ]
  },
  {
   "cell_type": "code",
   "execution_count": null,
   "id": "776cbb10-0980-4627-9ff1-9ecc045cbc02",
   "metadata": {
    "tags": []
   },
   "outputs": [],
   "source": [
    "spec.simple_coadd()\n",
    "print(spec.wave)\n",
    "print(spec.flux)"
   ]
  },
  {
   "cell_type": "code",
   "execution_count": null,
   "id": "8e0aead8-a057-4567-b180-3cafa7e1a3a3",
   "metadata": {
    "tags": []
   },
   "outputs": [],
   "source": [
    "plt.figure(figsize=(12, 5))\n",
    "for arm, wave_arm in spec.wave.items():\n",
    "    plt.plot(wave_arm, spec.flux[arm], label=arm, alpha=0.7, c='k')\n",
    "plt.legend()\n",
    "plt.ylim(-1, 5)\n",
    "plt.show()"
   ]
  },
  {
   "cell_type": "code",
   "execution_count": null,
   "id": "e9602a4a-6112-42ef-b51c-6262d1bdfe46",
   "metadata": {},
   "outputs": [],
   "source": []
  }
 ],
 "metadata": {
  "kernelspec": {
   "display_name": "qsonic",
   "language": "python",
   "name": "qsonic"
  },
  "language_info": {
   "codemirror_mode": {
    "name": "ipython",
    "version": 3
   },
   "file_extension": ".py",
   "mimetype": "text/x-python",
   "name": "python",
   "nbconvert_exporter": "python",
   "pygments_lexer": "ipython3",
   "version": "3.8.16"
  }
 },
 "nbformat": 4,
 "nbformat_minor": 5
}
