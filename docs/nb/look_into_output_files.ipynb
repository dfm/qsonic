{
 "cells": [
  {
   "cell_type": "code",
   "execution_count": null,
   "id": "33734cce-5b05-4977-bfe8-0c8fc208da37",
   "metadata": {
    "tags": []
   },
   "outputs": [],
   "source": [
    "import fitsio\n",
    "import numpy as np\n",
    "import matplotlib.pyplot as plt"
   ]
  },
  {
   "cell_type": "code",
   "execution_count": null,
   "id": "75511025-bbfb-4a81-8c3d-943185e85c41",
   "metadata": {
    "tags": []
   },
   "outputs": [],
   "source": [
    "output_delta_folder = \"Delta-co1\"\n",
    "fchi2 = fitsio.FITS(f\"{output_delta_folder}/continuum_chi2_catalog.fits\")[1]\n",
    "fchi2"
   ]
  },
  {
   "cell_type": "code",
   "execution_count": null,
   "id": "ea45f43b-1b38-4a0b-944f-a5bfb92eb093",
   "metadata": {
    "tags": []
   },
   "outputs": [],
   "source": [
    "chi2_data = fchi2.read()\n",
    "is_valid = chi2_data['CONT_valid']\n",
    "\n",
    "chi2_v = chi2_data[is_valid]['CONT_chi2'] / chi2_data[is_valid]['CONT_dof']\n",
    "\n",
    "plt.hist(chi2_v, bins=100)\n",
    "plt.axvline(1, c='k')\n",
    "plt.xlabel(r\"$\\chi^2_\\nu$\")\n",
    "plt.ylabel(\"Counts\")\n",
    "plt.yscale(\"log\")\n",
    "plt.show()"
   ]
  },
  {
   "cell_type": "code",
   "execution_count": null,
   "id": "184a085a-01ed-4c41-8b84-18b11295cd60",
   "metadata": {
    "tags": []
   },
   "outputs": [],
   "source": [
    "fattr = fitsio.FITS(f\"{output_delta_folder}/attributes.fits\")\n",
    "fattr"
   ]
  },
  {
   "cell_type": "code",
   "execution_count": null,
   "id": "844ec9b7-ecbc-4d81-9bed-1fa548f24325",
   "metadata": {
    "tags": []
   },
   "outputs": [],
   "source": [
    "fattr['VAR_STATS']"
   ]
  },
  {
   "cell_type": "code",
   "execution_count": null,
   "id": "627ec135-3123-4af5-a755-b26d0f9feabb",
   "metadata": {
    "tags": []
   },
   "outputs": [],
   "source": [
    "fattr['VAR_STATS'].read_header()"
   ]
  },
  {
   "cell_type": "markdown",
   "id": "5e2d44fd-958b-4e43-ac93-3d0c7bd198ff",
   "metadata": {},
   "source": [
    "## Plotting var_pipe vs var_obs for a wavelength bin"
   ]
  },
  {
   "cell_type": "code",
   "execution_count": null,
   "id": "6a1c1915-26aa-47c6-81af-46f06ca932ab",
   "metadata": {
    "tags": []
   },
   "outputs": [],
   "source": [
    "hdr = fattr['VAR_STATS'].read_header()\n",
    "nwbins = hdr['NWBINS']\n",
    "nvarbins = hdr['NVARBINS']\n",
    "min_nqso = hdr['MINNQSO']\n",
    "min_npix = hdr['MINNPIX']\n",
    "del hdr\n",
    "\n",
    "var_stats_data = fattr['VAR_STATS'].read().reshape(nwbins, nvarbins)\n",
    "\n",
    "# Pick a wavelength bin to plot\n",
    "iw = 2\n",
    "dat = var_stats_data[iw]\n",
    "valid = (dat['num_qso'] >= min_nqso) & (dat['num_pixels'] >= min_npix)\n",
    "dat = dat[valid]\n",
    "\n",
    "plt.errorbar(\n",
    "    dat['var_pipe'], dat['var_delta'], dat['e_var_delta'],\n",
    "    fmt='.', alpha=1, label=f\"{np.mean(dat['wave']):.0f} A\")\n",
    "plt.xlabel(\"Pipeline variance\")\n",
    "plt.ylabel(\"Observed variance\")\n",
    "plt.xscale(\"log\")\n",
    "plt.yscale(\"log\")\n",
    "plt.grid()\n",
    "plt.legend()\n",
    "plt.show()"
   ]
  },
  {
   "cell_type": "markdown",
   "id": "562d4073-33f0-48a3-9676-486f088fd242",
   "metadata": {},
   "source": [
    "## Plot covariance between these points"
   ]
  },
  {
   "cell_type": "code",
   "execution_count": null,
   "id": "6a854318-059a-4c30-be14-3959e90845ee",
   "metadata": {
    "tags": []
   },
   "outputs": [],
   "source": [
    "cov = dat['cov_var_delta'][:, valid]\n",
    "norm = np.sqrt(cov.diagonal())\n",
    "plt.imshow(cov / np.outer(norm, norm), vmin=-1, vmax=1, cmap=plt.cm.seismic)\n",
    "plt.gca().invert_yaxis()\n",
    "plt.gca().invert_xaxis()\n",
    "plt.show()"
   ]
  },
  {
   "cell_type": "markdown",
   "id": "58db5d82-c472-4753-be0b-d223b1ad4c4f",
   "metadata": {},
   "source": [
    "## Plot var_pipe vs mean_delta"
   ]
  },
  {
   "cell_type": "code",
   "execution_count": null,
   "id": "3f14cdbf-82a9-4f07-9e6f-975d636fc5fb",
   "metadata": {
    "tags": []
   },
   "outputs": [],
   "source": [
    "plt.errorbar(\n",
    "    dat['var_pipe'], dat['mean_delta'], np.sqrt(dat['var_delta'] / dat['num_pixels']),\n",
    "    fmt='.', alpha=1, label=f\"{np.mean(dat['wave']):.0f} A\")\n",
    "plt.xlabel(\"Pipeline variance\")\n",
    "plt.ylabel(\"Observed mean delta\")\n",
    "plt.xscale(\"log\")\n",
    "plt.grid()\n",
    "plt.axhline(0, c='k')\n",
    "plt.legend()\n",
    "plt.show()"
   ]
  },
  {
   "cell_type": "code",
   "execution_count": null,
   "id": "b5dda1ed-b480-41b8-b4d1-f2c77948911d",
   "metadata": {},
   "outputs": [],
   "source": []
  }
 ],
 "metadata": {
  "kernelspec": {
   "display_name": "lya",
   "language": "python",
   "name": "lya"
  },
  "language_info": {
   "codemirror_mode": {
    "name": "ipython",
    "version": 3
   },
   "file_extension": ".py",
   "mimetype": "text/x-python",
   "name": "python",
   "nbconvert_exporter": "python",
   "pygments_lexer": "ipython3",
   "version": "3.10.12"
  }
 },
 "nbformat": 4,
 "nbformat_minor": 5
}
